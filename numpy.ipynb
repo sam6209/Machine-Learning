{
 "cells": [
  {
   "cell_type": "code",
   "execution_count": 1,
   "metadata": {},
   "outputs": [
    {
     "data": {
      "text/plain": [
       "array([0., 0., 0., 0., 0., 0., 0., 0.])"
      ]
     },
     "execution_count": 1,
     "metadata": {},
     "output_type": "execute_result"
    }
   ],
   "source": [
    "# 标准安装的Python中用列表(list)保存一组值，可以用来当作数组使用，不过由于列表的元素可以是任何对象，因此列表中所保存的是对象的指针。\n",
    "# 这样为了保存一个简单的[1,2,3]，需要有3个指针和三个整数对象。对于数值运算来说这种结构显然比较浪费内存和CPU计算时间。 \n",
    "# 此外Python还提供了一个array模块，array对象和列表不同，它直接保存数值，和C语言的一维数组比较类似。\n",
    "# 但是由于它不支持多维，也没有各种运算函数，因此也不适合做数值运算。 \n",
    "# NumPy的诞生弥补了这些不足，NumPy提供了两种基本的对象：ndarray（N-dimensional array object）和 ufunc（universal function object）。\n",
    "# ndarray是存储单一数据类型的多维数组，而ufunc则是能够对数组进行处理的函数。"
   ]
  },
  {
   "cell_type": "code",
   "execution_count": 7,
   "metadata": {},
   "outputs": [
    {
     "name": "stdout",
     "output_type": "stream",
     "text": [
      "[0. 0. 0. 0. 0. 0. 0. 0.]\n",
      "[1. 2. 3. 4.]\n",
      "[[1 2 3]\n",
      " [4 5 6]\n",
      " [7 8 9]]\n"
     ]
    }
   ],
   "source": [
    "#1.创建\n",
    "import numpy as np\n",
    "a=np.zeros(8)\n",
    "b=np.array([1, 2, 3, 4],dtype=float)\n",
    "c=np.array([[1,2,3],[4,5,6],[7,8,9]])\n",
    "\n",
    "print a\n",
    "print b\n",
    "print c"
   ]
  },
  {
   "cell_type": "code",
   "execution_count": 3,
   "metadata": {},
   "outputs": [
    {
     "name": "stdout",
     "output_type": "stream",
     "text": [
      "(8,)\n",
      "8\n",
      "(4,)\n",
      "(3, 3)\n"
     ]
    }
   ],
   "source": [
    "#2.数组的大小可以通过其shape\n",
    "#一维数组（8，）\n",
    "print a.shape\n",
    "print a.shape[0]\n",
    "print b.shape\n",
    "print c.shape"
   ]
  },
  {
   "cell_type": "code",
   "execution_count": 4,
   "metadata": {},
   "outputs": [
    {
     "name": "stdout",
     "output_type": "stream",
     "text": [
      "[[0. 0. 0. 0.]\n",
      " [0. 0. 0. 0.]]\n",
      "[[0. 0. 0. 0.]\n",
      " [0. 0. 0. 0.]]\n"
     ]
    }
   ],
   "source": [
    "#3.reshape方法，可以创建一个改变了尺寸的新数组，原数组的shape保持不变：\n",
    "#当某个轴的元素为-1时，将根据数组元素的个数自动计算此轴的长度\n",
    "print a.reshape([2,4])\n",
    "print a.reshape([2,-1])"
   ]
  },
  {
   "cell_type": "code",
   "execution_count": 6,
   "metadata": {},
   "outputs": [
    {
     "name": "stdout",
     "output_type": "stream",
     "text": [
      "float64\n",
      "int64\n",
      "int32\n"
     ]
    }
   ],
   "source": [
    "#4.数组的元素类型可以通过dtype属性获得\n",
    "#；通过astype修改元素类型\n",
    "print a.dtype\n",
    "print b.dtype\n",
    "\n",
    "\n",
    "a=a.astype(np.int32)\n",
    "print a.dtype"
   ]
  },
  {
   "cell_type": "code",
   "execution_count": 37,
   "metadata": {},
   "outputs": [
    {
     "data": {
      "text/plain": [
       "array([ 1,  2, 10,  4])"
      ]
     },
     "execution_count": 37,
     "metadata": {},
     "output_type": "execute_result"
    }
   ],
   "source": [
    "#5.存取元素和Python的标准方法相同\n",
    "b[1]    # 用整数作为下标可以获取数组中的某个元素\n",
    "b[1:4]  # 用范围作为下标获取数组的一个切片，包括b[1]不包括b[4]\n",
    "b[2]=10    # 下标还可以用来修改元素的值\n",
    "b"
   ]
  },
  {
   "cell_type": "code",
   "execution_count": 43,
   "metadata": {},
   "outputs": [
    {
     "name": "stdout",
     "output_type": "stream",
     "text": [
      "b: [1 2 3 4]\n",
      "b2 [2 3]\n",
      "b: [  1   2 -10   4]\n",
      "b2 [  2 -10]\n"
     ]
    }
   ],
   "source": [
    "#6.和Python的列表序列不同，通过下标范围获取的新的数组是原始数组的一个视图。它与原始数组共享同一块数据空间：\n",
    "b=np.arange(1,5,1)\n",
    "b2=b[1:3]\n",
    "print 'b:', b\n",
    "print 'b2', b2\n",
    "b2[1]=-10\n",
    "print 'b:', b\n",
    "print 'b2', b2"
   ]
  },
  {
   "cell_type": "code",
   "execution_count": 42,
   "metadata": {},
   "outputs": [
    {
     "name": "stdout",
     "output_type": "stream",
     "text": [
      "a2 [1 2 3 4 5 6 7 8 9]\n",
      "a3: [1 2 3]\n",
      "a2 [1 2 3 4 5 6 7 8 9]\n",
      "a3: [10  2  3]\n"
     ]
    }
   ],
   "source": [
    "#7.当使用整数序列对数组元素进行存取时，整数序列可以是列表或者数组。使用整数序列作为下标获得的数组不和原始数组共享数据空间。\n",
    "a2=np.arange(1,10,1)\n",
    "print 'a2', a2\n",
    "a3=a2[[0,1,2]]\n",
    "print 'a3:', a3\n",
    "a3[0]=10\n",
    "print 'a2', a2\n",
    "print 'a3:', a3"
   ]
  },
  {
   "cell_type": "code",
   "execution_count": null,
   "metadata": {},
   "outputs": [],
   "source": []
  }
 ],
 "metadata": {
  "kernelspec": {
   "display_name": "Python 2",
   "language": "python",
   "name": "python2"
  },
  "language_info": {
   "codemirror_mode": {
    "name": "ipython",
    "version": 2
   },
   "file_extension": ".py",
   "mimetype": "text/x-python",
   "name": "python",
   "nbconvert_exporter": "python",
   "pygments_lexer": "ipython2",
   "version": "2.7.15"
  }
 },
 "nbformat": 4,
 "nbformat_minor": 2
}
