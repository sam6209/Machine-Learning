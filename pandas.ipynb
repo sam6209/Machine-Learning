{
 "cells": [
  {
   "cell_type": "code",
   "execution_count": 1,
   "metadata": {},
   "outputs": [
    {
     "name": "stdout",
     "output_type": "stream",
     "text": [
      "0    a\n",
      "1    b\n",
      "2    c\n",
      "dtype: object\n"
     ]
    }
   ],
   "source": [
    "#1、系列(Series)是能够保存任何类型的数据(整数，字符串，浮点数，Python对象等)的一维标记数组\n",
    "import pandas as pd\n",
    "import numpy as np\n",
    "data=np.array([\"a\",\"b\",\"c\"])\n",
    "s=pd.Series(data)\n",
    "print s"
   ]
  },
  {
   "cell_type": "code",
   "execution_count": 9,
   "metadata": {},
   "outputs": [
    {
     "name": "stdout",
     "output_type": "stream",
     "text": [
      "      name   age\n",
      "11     Bob  10.0\n",
      "12   Suoyu  20.0\n",
      "13  jiaoli  18.0\n"
     ]
    }
   ],
   "source": [
    "#2、据帧(DataFrame)是二维数据结构，即数据以行和列的表格方式排列\n",
    "#pandas.DataFrame( data, index, columns, dtype, copy)\n",
    "#data: 数据采取各种形式，如:ndarray，series，map，lists，dict\n",
    "#index: 行标签，要用于结果帧的索引是可选缺省。 如果没有传递索引值，np.arrange(n)。\n",
    "#columns:列标签,可选的默认语法是 - np.arange(n)。 这只有在没有索引传递的情况下才是这样。\n",
    "#dtype:每列的数据类型\n",
    "\n",
    "#3、列表创建DataFrame\n",
    "data=[['Bob',10],['Suoyu',20],['jiaoli',18]]\n",
    "df=pd.DataFrame(data,columns=['name','age'],index=[11,12,13],dtype=float)\n",
    "print df.head(5)"
   ]
  },
  {
   "cell_type": "code",
   "execution_count": 39,
   "metadata": {},
   "outputs": [
    {
     "name": "stdout",
     "output_type": "stream",
     "text": [
      "   age    name\n",
      "0   18     Bob\n",
      "1   20   Suoyu\n",
      "2   18  Jiaoli\n"
     ]
    }
   ],
   "source": [
    "#3、dict创建DataFrame\n",
    "data=[{'name':'Bob','age':18},{'name':'Suoyu','age':20},{'name':'Jiaoli','age':18}]\n",
    "df2=pd.DataFrame(data)\n",
    "print df2"
   ]
  },
  {
   "cell_type": "code",
   "execution_count": 47,
   "metadata": {},
   "outputs": [
    {
     "name": "stdout",
     "output_type": "stream",
     "text": [
      "<type 'numpy.ndarray'> [[18 'Bob']\n",
      " [20 'Suoyu']\n",
      " [18 'Jiaoli']]\n",
      "<class 'pandas.core.indexes.base.Index'> Index([u'age', u'name'], dtype='object')\n",
      "<class 'pandas.core.indexes.range.RangeIndex'> RangeIndex(start=0, stop=3, step=1)\n",
      "     name  age\n",
      "0     Bob   18\n",
      "1   Suoyu   20\n",
      "2  Jiaoli   18\n",
      "<class 'pandas.core.series.Series'> 0       Bob\n",
      "1     Suoyu\n",
      "2    Jiaoli\n",
      "Name: name, dtype: object\n",
      "<type 'numpy.ndarray'> ['Bob' 'Suoyu' 'Jiaoli']\n"
     ]
    }
   ],
   "source": [
    "#4、DataFrame的属性\n",
    "print type(df2.values), df2.values          #df.values是数组\n",
    "print type(df2.columns), df2.columns        #df.comuns是Index类型\n",
    "print type(df2.index), df2.index            #df.index是Index类型\n",
    "print df2[['name','age']]                   #df[['name','age']]是DataFrame\n",
    "print type(df2['name']), df2['name']        #df['name']是Series\n",
    "print type(df2['name'].values), df2['name'].values     # df2['name'].values是数组"
   ]
  },
  {
   "cell_type": "code",
   "execution_count": 2,
   "metadata": {},
   "outputs": [
    {
     "name": "stdout",
     "output_type": "stream",
     "text": [
      "       a  b\n",
      "one    1  2\n",
      "two    2  3\n",
      "three  3  1\n"
     ]
    }
   ],
   "source": [
    "data={'a':pd.Series([1,2,3],index=['one','two','three']),'b':pd.Series([2,3,1],index=['one','two','three'])}\n",
    "df=pd.DataFrame(data)\n",
    "print df"
   ]
  },
  {
   "cell_type": "code",
   "execution_count": 3,
   "metadata": {},
   "outputs": [
    {
     "name": "stdout",
     "output_type": "stream",
     "text": [
      "       a  b  c  d\n",
      "one    1  2  3  2\n",
      "two    2  3  5  3\n",
      "three  3  1  4  4\n"
     ]
    }
   ],
   "source": [
    "#5、列增加\n",
    "#自定义函数\n",
    "df['c']=df['a']+df['b']\n",
    "df['d']=df['a'].apply(lambda x:x+1)\n",
    "print df"
   ]
  },
  {
   "cell_type": "code",
   "execution_count": 4,
   "metadata": {},
   "outputs": [
    {
     "name": "stdout",
     "output_type": "stream",
     "text": [
      "one      3\n",
      "two      5\n",
      "three    4\n",
      "Name: c, dtype: int64\n",
      "       a  b\n",
      "one    1  2\n",
      "two    2  3\n",
      "three  3  1\n"
     ]
    }
   ],
   "source": [
    "#6、列选择\n",
    "print df['c']         #是Series类型\n",
    "print df[['a','b']]   #是DataFrame"
   ]
  },
  {
   "cell_type": "code",
   "execution_count": 6,
   "metadata": {},
   "outputs": [
    {
     "name": "stdout",
     "output_type": "stream",
     "text": [
      "       a  b  c  d\n",
      "one    1  2  3  2\n",
      "two    2  3  5  3\n",
      "three  3  1  4  4\n",
      "       a  b  c\n",
      "one    1  2  3\n",
      "two    2  3  5\n",
      "three  3  1  4\n"
     ]
    }
   ],
   "source": [
    "#7、列删除\n",
    "print df\n",
    "del df['d']\n",
    "print df"
   ]
  },
  {
   "cell_type": "code",
   "execution_count": 7,
   "metadata": {},
   "outputs": [
    {
     "name": "stdout",
     "output_type": "stream",
     "text": [
      "     a  b  c\n",
      "one  1  2  3\n",
      "two  2  3  5\n",
      "<class 'pandas.core.series.Series'> a    1\n",
      "b    2\n",
      "c    3\n",
      "Name: one, dtype: int64\n",
      "       a  b  c\n",
      "two    2  3  5\n",
      "three  3  1  4\n",
      "<class 'pandas.core.series.Series'> a    2\n",
      "b    3\n",
      "c    5\n",
      "Name: two, dtype: int64\n",
      "       a  b  c\n",
      "two    2  3  5\n",
      "three  3  1  4\n",
      "       a  b  c\n",
      "two    2  3  5\n",
      "three  3  1  4\n"
     ]
    }
   ],
   "source": [
    "#8、行选择\n",
    "#a、标签选择\n",
    "print df.loc[['one','two']]                 #为DataFrame类型\n",
    "print type(df.loc['one']), df.loc['one']    #为Series类型 \n",
    "\n",
    "#b、行数选择\n",
    "print df.iloc[[1,2]]                          #为DataFrame类型\n",
    "print type(df.iloc[1]), df.iloc[1]            #为Series类型\n",
    "\n",
    "#c、行切片\n",
    "print df[1:3]\n",
    "\n",
    "#d、按条件选择\n",
    "print df[df['a']>1]"
   ]
  },
  {
   "cell_type": "code",
   "execution_count": 8,
   "metadata": {},
   "outputs": [
    {
     "name": "stdout",
     "output_type": "stream",
     "text": [
      "       a  b  c\n",
      "one    1  2  3\n",
      "two    2  3  5\n",
      "three  3  1  4\n",
      "       a  b  c\n",
      "one    1  2  3\n",
      "two    2  3  5\n",
      "three  3  1  4\n",
      "four   1  2  3\n"
     ]
    }
   ],
   "source": [
    "#9、添加行：使用append()方法\n",
    "data=[[1,2,3]]\n",
    "df3=pd.DataFrame(data,columns=['a','b','c'],index=['four'])\n",
    "print df\n",
    "print df.append(df3)"
   ]
  },
  {
   "cell_type": "code",
   "execution_count": 14,
   "metadata": {},
   "outputs": [
    {
     "name": "stdout",
     "output_type": "stream",
     "text": [
      "   A  B\n",
      "0  0  1\n",
      "1  1  0\n",
      "   a  B\n",
      "0  0  1\n",
      "1  1  0\n"
     ]
    }
   ],
   "source": [
    "# columns重命名\n",
    "df=pd.DataFrame([[0,1],[1,0]],columns=['A','B'])\n",
    "print df\n",
    "df.rename(columns={'A':'a'},inplace=True)\n",
    "print df"
   ]
  },
  {
   "cell_type": "code",
   "execution_count": null,
   "metadata": {},
   "outputs": [],
   "source": []
  }
 ],
 "metadata": {
  "kernelspec": {
   "display_name": "Python 2",
   "language": "python",
   "name": "python2"
  },
  "language_info": {
   "codemirror_mode": {
    "name": "ipython",
    "version": 2
   },
   "file_extension": ".py",
   "mimetype": "text/x-python",
   "name": "python",
   "nbconvert_exporter": "python",
   "pygments_lexer": "ipython2",
   "version": "2.7.15"
  }
 },
 "nbformat": 4,
 "nbformat_minor": 2
}
