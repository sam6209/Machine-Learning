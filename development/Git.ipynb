{
 "cells": [
  {
   "cell_type": "code",
   "execution_count": null,
   "metadata": {},
   "outputs": [],
   "source": [
    "##新建git仓库\n",
    "#初始化一个Git仓库，使用git init命令。\n",
    "\n",
    "#克隆一个远程仓库：git clone git@github.com:michaelliao/gitskills.git\n",
    "# Git支持多种协议，包括https，但通过ssh支持的原生git协议速度最快。\n",
    "# 当你从远程仓库克隆时，实际上Git自动把本地的master分支和远程的master分支对应起来了，并且，远程仓库的默认名称是origin。"
   ]
  },
  {
   "cell_type": "code",
   "execution_count": null,
   "metadata": {},
   "outputs": [],
   "source": [
    "##查看状态\n",
    "#要随时掌握工作区的状态，使用git status命令。\n",
    "\n",
    "#如果git status告诉你有文件被修改过，用git diff可以查看修改内容。"
   ]
  },
  {
   "cell_type": "code",
   "execution_count": null,
   "metadata": {},
   "outputs": [],
   "source": [
    "##版本回退\n",
    "# HEAD指向的版本就是当前版本，因此，Git允许我们在版本的历史之间穿梭，使用命令git reset --hard commit_id。\n",
    "\n",
    "# 穿梭前，用git log可以查看提交历史，以便确定要回退到哪个版本。\n",
    "\n",
    "# 要重返未来，用git reflog查看命令历史，以便确定要回到未来的哪个版本。"
   ]
  },
  {
   "cell_type": "code",
   "execution_count": null,
   "metadata": {},
   "outputs": [],
   "source": [
    "##提交代码\n",
    "# Git的版本库里存了很多东西，其中最重要的就是称为stage（或者叫index）的暂存区，还有Git为我们自动创建的第一个分支master，\n",
    "# 以及指向master的一个指针叫HEAD。\n",
    "\n",
    "# 第一步是用git add把文件添加进去，实际上就是把文件修改添加到暂存区；\n",
    "\n",
    "# 第二步是用git commit提交更改，实际上就是把暂存区的所有内容提交到当前分支"
   ]
  },
  {
   "cell_type": "code",
   "execution_count": null,
   "metadata": {},
   "outputs": [],
   "source": [
    "##撤销修改\n",
    "#为什么Git比其他版本控制系统设计得优秀，因为Git跟踪并管理的是修改，而非文件。\n",
    "\n",
    "# 1：当你改乱了工作区某个文件的内容，想直接丢弃工作区的修改时，用命令git checkout -- file。\n",
    "#git checkout -- file命令中的--很重要，没有--，就变成了“切换到另一个分支”的命令，我们在后面的分支管理中会再次遇到git checkout命令。\n",
    "\n",
    "# 2：当你不但改乱了工作区某个文件的内容，还添加到了暂存区时，想丢弃修改，分两步，第一步用命令git reset HEAD <file>，就回到了场景1，\n",
    "#第二步按场景1操作。\n",
    "#git reset命令既可以回退版本，也可以把暂存区的修改回退到工作区。当我们用HEAD时，表示最新的版本。\n",
    "\n",
    "#3：已经提交了不合适的修改到版本库时，想要撤销本次提交，参考版本回退一节，不过前提是没有推送到远程库。"
   ]
  },
  {
   "cell_type": "code",
   "execution_count": null,
   "metadata": {},
   "outputs": [],
   "source": [
    "##远程库\n",
    "# 要关联一个远程库，使用命令git remote add origin git@server-name:path/repo-name.git；\n",
    "\n",
    "# 关联后，使用命令git push -u origin master第一次推送master分支的所有内容\n",
    "\n",
    "# 此后，每次本地提交后，只要有必要，就可以使用命令git push origin master推送最新修改；\n",
    "\n",
    "# 分布式版本系统的最大好处之一是在本地工作完全不需要考虑远程库的存在，也就是有没有联网都可以正常工作，而SVN在没有联网的时候是拒绝干活的！"
   ]
  },
  {
   "cell_type": "code",
   "execution_count": null,
   "metadata": {},
   "outputs": [],
   "source": [
    "##新建分支\n",
    "# 添加一个新功能时，你肯定不希望因为一些实验性质的代码，把主分支搞乱了，所以，每添加一个新功能，最好新建一个feature分支，\n",
    "# 在上面开发，完成后，合并，最后，删除该feature分支。\n",
    "# 查看分支：git branch\n",
    "\n",
    "# 创建分支：git branch <name>\n",
    "\n",
    "# 切换分支：git checkout <name>\n",
    "\n",
    "# 创建+切换分支：git checkout -b <name>\n",
    "\n",
    "# 删除分支：git branch -d <name>\n",
    "\n",
    "#git merge命令用于合并指定分支到当前分支。\n",
    "#git merge dev\n",
    "\n",
    "# 如果要丢弃一个没有被合并过的分支，可以通过git branch -D <name>强行删除。"
   ]
  },
  {
   "cell_type": "code",
   "execution_count": null,
   "metadata": {},
   "outputs": [],
   "source": [
    "#解决冲突：\n",
    "# 当Git无法自动合并分支时，就必须首先解决冲突。解决冲突后，再提交，合并完成。\n",
    "\n",
    "# 解决冲突就是把Git合并失败的文件手动编辑为我们希望的内容，再提交。"
   ]
  },
  {
   "cell_type": "code",
   "execution_count": null,
   "metadata": {},
   "outputs": [],
   "source": [
    "# 多人协作的工作模式通常是这样：\n",
    "# 首先，可以试图用git push origin <branch-name>推送自己的修改；\n",
    "# 如果推送失败，则因为远程分支比你的本地更新，需要先用git pull试图合并；\n",
    "# 如果合并有冲突，则解决冲突，并在本地提交；\n",
    "# 没有冲突或者解决掉冲突后，再用git push origin <branch-name>推送就能成功！\n",
    "\n",
    "# 从本地推送分支，使用git push origin branch-name，如果推送失败，先用git pull抓取远程的新提交；\n",
    "# 在本地创建和远程分支对应的分支，使用git checkout -b branch-name origin/branch-name，本地和远程分支的名称最好一致；"
   ]
  }
 ],
 "metadata": {
  "kernelspec": {
   "display_name": "Python 2",
   "language": "python",
   "name": "python2"
  },
  "language_info": {
   "codemirror_mode": {
    "name": "ipython",
    "version": 2
   },
   "file_extension": ".py",
   "mimetype": "text/x-python",
   "name": "python",
   "nbconvert_exporter": "python",
   "pygments_lexer": "ipython2",
   "version": "2.7.15"
  }
 },
 "nbformat": 4,
 "nbformat_minor": 2
}
