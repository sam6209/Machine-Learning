{
 "cells": [
  {
   "cell_type": "code",
   "execution_count": 19,
   "metadata": {},
   "outputs": [
    {
     "data": {
      "text/plain": [
       "(13, 2, 6, 2)"
      ]
     },
     "execution_count": 19,
     "metadata": {},
     "output_type": "execute_result"
    }
   ],
   "source": [
    "#题目1：输入一行字符，分别统计出其中英文字母、空格、数字和其它字符的个数。\n",
    "def string_sta(s):\n",
    "    letters, space, digit, others=0,0,0,0\n",
    "    for i in range(len(s)):\n",
    "        if s[i]>='A' and s[i]<='z':\n",
    "            letters+=1\n",
    "        elif s[i] ==' ':\n",
    "            space+=1\n",
    "        elif s[i]>='0' and s[i]<='9':\n",
    "            digit+=1\n",
    "        else:\n",
    "            others+=1\n",
    "    return letters, space, digit, others\n",
    "\n",
    "string_sta(\"123runoobc  kdf235*(dfl\")"
   ]
  },
  {
   "cell_type": "code",
   "execution_count": 26,
   "metadata": {},
   "outputs": [
    {
     "data": {
      "text/plain": [
       "60"
      ]
     },
     "execution_count": 26,
     "metadata": {},
     "output_type": "execute_result"
    }
   ],
   "source": [
    "#题目6：求s=a+aa+aaa+aaaa+aa...a的值，其中a是一个数字。例如2+22+222+2222+22222(此时共有5个数相加)\n",
    "def add(digit,cnt):\n",
    "    if cnt==1:\n",
    "        return digit\n",
    "    else:\n",
    "        sum=digit\n",
    "        number0=digit\n",
    "        for i in range(1,cnt):\n",
    "            number0=number0*10+digit\n",
    "            sum+=number0\n",
    "        return sum\n",
    "\n",
    "add(5,2)"
   ]
  },
  {
   "cell_type": "code",
   "execution_count": 42,
   "metadata": {},
   "outputs": [
    {
     "data": {
      "text/plain": [
       "[2, 3, 3, 5]"
      ]
     },
     "execution_count": 42,
     "metadata": {},
     "output_type": "execute_result"
    }
   ],
   "source": [
    "#题目8：将一个正整数分解质因数。例如：输入90,打印出90=2*3*3*5。\n",
    "def number_factors(num):\n",
    "    for i in range(2,num+1):\n",
    "        if num%i==0:\n",
    "            lst=[i]\n",
    "            left=num/i\n",
    "            if left==1:\n",
    "                return [i]\n",
    "            else:\n",
    "                lst2=number_factors(left)\n",
    "                lst.extend(lst2)\n",
    "                return lst\n",
    "\n",
    "number_factors(90)"
   ]
  },
  {
   "cell_type": "code",
   "execution_count": 45,
   "metadata": {},
   "outputs": [
    {
     "name": "stdout",
     "output_type": "stream",
     "text": [
      "[6, 28, 496]\n"
     ]
    }
   ],
   "source": [
    "#题目14：一个数如果恰好等于它的因子之和，这个数就称为\"完数\"。例如6=1＋2＋3.编程找出1000以内的所有完数。\n",
    "#得到整数的所有因子\n",
    "def factor_num(number):\n",
    "    lst=[]\n",
    "    for i in range(1,number):\n",
    "        if number%i==0:\n",
    "            lst.append(i)\n",
    "    return lst\n",
    "\n",
    "def is_wanshu(number):\n",
    "    lst=factor_num(number)\n",
    "    if sum(lst)==number:\n",
    "        return True\n",
    "    else:\n",
    "        return False\n",
    "\n",
    "result=[]\n",
    "for i in range(2,1001):\n",
    "    if is_wanshu(i):\n",
    "        result.append(i)\n",
    "print result\n",
    "\n"
   ]
  },
  {
   "cell_type": "code",
   "execution_count": 50,
   "metadata": {},
   "outputs": [
    {
     "data": {
      "text/plain": [
       "(299.609375, 0.09765625)"
      ]
     },
     "execution_count": 50,
     "metadata": {},
     "output_type": "execute_result"
    }
   ],
   "source": [
    "#题目15：一球从100米高度自由落下，每次落地后反跳回原高度的一半；再落下，求它在第10次落地时，共经过多少米？第10次反弹多高？\n",
    "\n",
    "def height_distance(n):\n",
    "    if n==1:\n",
    "        distance=100\n",
    "        height=50\n",
    "        return distance, height\n",
    "    else:\n",
    "        distance,height=100,50\n",
    "        for i in range(2,n+1):\n",
    "            distance+=height*2\n",
    "            height=float(height)/2\n",
    "        return distance,height\n",
    "\n",
    "height_distance(10)\n",
    "    "
   ]
  },
  {
   "cell_type": "code",
   "execution_count": 1,
   "metadata": {},
   "outputs": [
    {
     "data": {
      "text/plain": [
       "1534"
      ]
     },
     "execution_count": 1,
     "metadata": {},
     "output_type": "execute_result"
    }
   ],
   "source": [
    "#题目18：猴子吃桃问题：猴子第一天摘下若干个桃子，当即吃了一半，还不瘾，又多吃了一个。第二天早上又将剩下的桃子吃掉一半，又多吃了一个。\n",
    "#以后每天早上都吃了前一天剩下的一半零一个。到第10天早上想再吃时，见只剩下一个桃子了。求第一天共摘了多少。\n",
    "\n",
    "def peach(n):\n",
    "    peach_cnt=1\n",
    "    for i in range(2,n+1):\n",
    "        peach_cnt= 2*(peach_cnt+1)\n",
    "    return peach_cnt\n",
    "        \n",
    "peach(10)"
   ]
  },
  {
   "cell_type": "code",
   "execution_count": null,
   "metadata": {},
   "outputs": [],
   "source": [
    "#题目20:打印图案  \n",
    "#    *\n",
    "#   ***\n",
    "#  *****\n",
    "# *******\n",
    "#  *****\n",
    "#   ***\n",
    "#    *\n",
    "#知识点：字符串乘以常数： 'a'*2=‘aa’"
   ]
  },
  {
   "cell_type": "code",
   "execution_count": 10,
   "metadata": {},
   "outputs": [
    {
     "name": "stdout",
     "output_type": "stream",
     "text": [
      "   *   \n",
      "  ***  \n",
      " ***** \n",
      "*******\n",
      " ***** \n",
      "  ***  \n",
      "   *   \n"
     ]
    }
   ],
   "source": [
    "def print_picture():\n",
    "    for i in range(4):\n",
    "        star='*'*(i*2+1)\n",
    "        space=' '*(3-i)\n",
    "        line= space+star+space\n",
    "        print line\n",
    "    for i in range(3):\n",
    "        star='*'*(5-2*i)\n",
    "        space=' '*(i+1)\n",
    "        line=space+star+space\n",
    "        print line\n",
    "print_picture()"
   ]
  },
  {
   "cell_type": "code",
   "execution_count": 11,
   "metadata": {},
   "outputs": [],
   "source": [
    "#题目23：有一分数序列：2/1，3/2，5/3，8/5，13/8，21/13...求出这个数列的前20项之和。\n",
    "#知识点：python可以这么赋值：a,b=a+b,a"
   ]
  },
  {
   "cell_type": "code",
   "execution_count": 20,
   "metadata": {},
   "outputs": [
    {
     "data": {
      "text/plain": [
       "32.66026079864164"
      ]
     },
     "execution_count": 20,
     "metadata": {},
     "output_type": "execute_result"
    }
   ],
   "source": [
    "def sum(n):\n",
    "    a,b=2,1\n",
    "    result=0\n",
    "    for i in range(1,n+1):\n",
    "        number=float(a)/b\n",
    "        result+=number\n",
    "        a,b=a+b,a\n",
    "    return result\n",
    "        \n",
    "        \n",
    "sum(20)"
   ]
  },
  {
   "cell_type": "code",
   "execution_count": 1,
   "metadata": {},
   "outputs": [
    {
     "data": {
      "text/plain": [
       "2561327494111820313"
      ]
     },
     "execution_count": 1,
     "metadata": {},
     "output_type": "execute_result"
    }
   ],
   "source": [
    "#题目25：求1+2!+3!+...+20!的和。\n",
    "\n",
    "def sum(n):\n",
    "    result,number=0,1\n",
    "    for i in range(1,n+1):\n",
    "        number=number*i\n",
    "        result=result+number\n",
    "    return result\n",
    "\n",
    "sum(20)"
   ]
  },
  {
   "cell_type": "code",
   "execution_count": 2,
   "metadata": {},
   "outputs": [
    {
     "data": {
      "text/plain": [
       "120"
      ]
     },
     "execution_count": 2,
     "metadata": {},
     "output_type": "execute_result"
    }
   ],
   "source": [
    "#题目26：利用递归方法求5!。\n",
    "\n",
    "def times(n):\n",
    "    if n==1:\n",
    "        return 1\n",
    "    elif n==2:\n",
    "        return 2\n",
    "    else:\n",
    "        return n*times(n-1)\n",
    "    \n",
    "times(5)"
   ]
  },
  {
   "cell_type": "code",
   "execution_count": 5,
   "metadata": {},
   "outputs": [
    {
     "data": {
      "text/plain": [
       "False"
      ]
     },
     "execution_count": 5,
     "metadata": {},
     "output_type": "execute_result"
    }
   ],
   "source": [
    "#题目30：一个5位数，判断它是不是回文数。即12321是回文数，个位与万位相同，十位与千位相同。\n",
    "#知识点：str(12345),将其他类型转为字符串\n",
    "def is_huiwen(number):\n",
    "    s=str(number)\n",
    "    result=True\n",
    "    for i in range(0,2):\n",
    "        if s[i]!=s[4-i]:\n",
    "            result=False\n",
    "    return result\n",
    "        \n",
    "is_huiwen(12381)"
   ]
  },
  {
   "cell_type": "code",
   "execution_count": 8,
   "metadata": {},
   "outputs": [
    {
     "name": "stdout",
     "output_type": "stream",
     "text": [
      "5\n",
      "4\n",
      "3\n",
      "2\n",
      "1\n"
     ]
    }
   ],
   "source": [
    "#题目31：按相反的顺序输出列表的值。\n",
    "\n",
    "def print_list(l):\n",
    "    size=len(l)\n",
    "    for i in range(size):\n",
    "        print l[size-1-i]\n",
    "        \n",
    "l=[1,2,3,4,5]\n",
    "print_list(l)"
   ]
  },
  {
   "cell_type": "code",
   "execution_count": 11,
   "metadata": {},
   "outputs": [
    {
     "data": {
      "text/plain": [
       "'1,2,3,4,5'"
      ]
     },
     "execution_count": 11,
     "metadata": {},
     "output_type": "execute_result"
    }
   ],
   "source": [
    "#题目32：按逗号分隔列表。\n",
    "def join(l):\n",
    "    s=\"\"\n",
    "    for i in range(len(l)):\n",
    "        if i ==0:\n",
    "            s=str(l[i])\n",
    "        else:\n",
    "            s=s+\",\"+str(l[i])\n",
    "    return s\n",
    "\n",
    "l=[1,2,3,4,5]\n",
    "join(l)"
   ]
  },
  {
   "cell_type": "code",
   "execution_count": 19,
   "metadata": {},
   "outputs": [
    {
     "name": "stdout",
     "output_type": "stream",
     "text": [
      "[1, 2, 3, 5, 7, 11, 13, 17, 19, 23, 29, 31, 37, 41, 43, 47, 53, 59, 61, 67, 71, 73, 79, 83, 89, 97]\n"
     ]
    }
   ],
   "source": [
    "#题目36：求100之内的素数。\n",
    "def sushu(n):\n",
    "    if n==1:\n",
    "        result =[1]\n",
    "    if n==2:\n",
    "        result =[1,2]\n",
    "    if n==3:\n",
    "        result = [1,2,3]\n",
    "    else:\n",
    "        result=[1,2,3]\n",
    "        for i in range(4,n+1):\n",
    "            flag=True\n",
    "            for j in range(2,i/2+1):\n",
    "                if i%j==0:\n",
    "                    flag=False\n",
    "                    break\n",
    "            if flag==True:\n",
    "                result.append(i)\n",
    "    return result\n",
    "\n",
    "print sushu(100)"
   ]
  },
  {
   "cell_type": "code",
   "execution_count": 23,
   "metadata": {},
   "outputs": [
    {
     "data": {
      "text/plain": [
       "[1, 2, 3, 4, 5]"
      ]
     },
     "execution_count": 23,
     "metadata": {},
     "output_type": "execute_result"
    }
   ],
   "source": [
    "#题目37：插入排序。\n",
    "##选择排序\n",
    "def select_sort(l):\n",
    "    size=len(l)\n",
    "    for i in range(1,size):\n",
    "        value=l[i]\n",
    "        j=i-1\n",
    "        while(j>=0):\n",
    "            if l[j]>value:\n",
    "                l[j+1]=l[j]\n",
    "                l[j]=value\n",
    "            else:\n",
    "                break\n",
    "    return l\n",
    "                \n",
    "select_sort([2,1,3,5,4])"
   ]
  },
  {
   "cell_type": "code",
   "execution_count": 37,
   "metadata": {},
   "outputs": [
    {
     "data": {
      "text/plain": [
       "[1, 2, 3, 4, 5]"
      ]
     },
     "execution_count": 37,
     "metadata": {},
     "output_type": "execute_result"
    }
   ],
   "source": [
    "#题目39：有一个已经排好序的数组。现输入一个数，要求按原来的规律将它插入数组中。\n",
    "def insert(l,n):\n",
    "    pos=get_position(l,n)\n",
    "    size=len(l)\n",
    "    l2=[]\n",
    "    for i in range(size+1):\n",
    "        if i< pos:\n",
    "            l2.append(l[i])\n",
    "        elif i>pos:\n",
    "            l2.append(l[i-1])\n",
    "        else:\n",
    "            l2.append(n)\n",
    "    return l2\n",
    "        \n",
    "def get_position(l,n):\n",
    "    low, middle, high = 0, (len(l)-1)/2, len(l)-1\n",
    "    while(high>low and l[(low+high)/2]!=n):\n",
    "        if n>l[(low+high)/2]:\n",
    "            low=(low+high)/2+1;\n",
    "        else:\n",
    "            high=(low+high)/2-1\n",
    "    return (low+high)/2+1\n",
    "    \n",
    "insert([1,2,4,5],3)   \n",
    "    "
   ]
  },
  {
   "cell_type": "code",
   "execution_count": 4,
   "metadata": {},
   "outputs": [
    {
     "data": {
      "text/plain": [
       "5050"
      ]
     },
     "execution_count": 4,
     "metadata": {},
     "output_type": "execute_result"
    }
   ],
   "source": [
    "#题目45：统计 1 到 100 之和。\n",
    "def sum(l):\n",
    "    return reduce(lambda a,b:a+b,l)\n",
    "l=range(1,101)\n",
    "sum(l)\n"
   ]
  },
  {
   "cell_type": "code",
   "execution_count": 13,
   "metadata": {},
   "outputs": [
    {
     "name": "stdout",
     "output_type": "stream",
     "text": [
      "10\n",
      "8.79894871114\n",
      "0.883028004361\n"
     ]
    }
   ],
   "source": [
    "#题目50：输出一个随机数。\n",
    "import random\n",
    "print random.randint(1,10) #1~10随机整数\n",
    "print random.uniform(1,10) #输出10-20之间的随机数\n",
    "print random.random()   #0~1之间的随机数"
   ]
  },
  {
   "cell_type": "code",
   "execution_count": 22,
   "metadata": {},
   "outputs": [
    {
     "name": "stdout",
     "output_type": "stream",
     "text": [
      "2345\n"
     ]
    }
   ],
   "source": [
    "#题目54：取一个整数a从右端开始的4〜7位。\n",
    "\n",
    "def part_int(n):\n",
    "    sn=str(n)\n",
    "    if len(sn)<7:\n",
    "        return None\n",
    "    else:\n",
    "        result=sn[-8:-4]\n",
    "        return result\n",
    "        return int(result)\n",
    "    \n",
    "print part_int(123456789)"
   ]
  },
  {
   "cell_type": "code",
   "execution_count": 46,
   "metadata": {},
   "outputs": [
    {
     "name": "stdout",
     "output_type": "stream",
     "text": [
      "1\n",
      "1, 1\n",
      "1, 2, 1\n",
      "1, 3, 3, 1\n",
      "1, 4, 6, 4, 1\n",
      "1, 5, 10, 10, 5, 1\n",
      "1, 6, 15, 20, 15, 6, 1\n",
      "1, 7, 21, 35, 35, 21, 7, 1\n",
      "1, 8, 28, 56, 70, 56, 28, 8, 1\n",
      "1, 9, 36, 84, 126, 126, 84, 36, 9, 1\n"
     ]
    }
   ],
   "source": [
    "#题目61：打印出杨辉三角形（要求打印出10行如下图）\n",
    "##list.append(element)会改变list的值\n",
    "def triangle(n):\n",
    "    if n==1:\n",
    "        return [[1],[0]]\n",
    "    elif n==2:\n",
    "        return [[1,0],[1,1,0]]\n",
    "    else:\n",
    "        result1=triangle(n-1)\n",
    "        last_line=result1[n-2]\n",
    "        line=[1]\n",
    "        for i in range(1,n):\n",
    "            value=last_line[i-1]+last_line[i]\n",
    "            line.append(value)\n",
    "        line.append(0)\n",
    "        result1.append(line)\n",
    "        return result1\n",
    "\n",
    "result = triangle(10)\n",
    "result1=map(lambda x:x[0:len(x)-1],result)\n",
    "for line in result1:\n",
    "    print str(line).strip('[]').strip(']')"
   ]
  },
  {
   "cell_type": "code",
   "execution_count": 10,
   "metadata": {},
   "outputs": [
    {
     "data": {
      "text/plain": [
       "(100, [10])"
      ]
     },
     "execution_count": 10,
     "metadata": {},
     "output_type": "execute_result"
    }
   ],
   "source": [
    "#题目68：有n个人围成一圈，顺序排号。从第一个人开始报数（从1到3报数），凡报到3的人退出圈子，问最后留下的是原来第几号的那位。\n",
    "def one_round(m,l):\n",
    "    left=[]\n",
    "    for i in range(0,len(l)):\n",
    "        if (i+m)%3!=0:\n",
    "            left.append(l[i])\n",
    "    return i+m+1,left\n",
    "    \n",
    "def last_one(m,l):\n",
    "    while(1):\n",
    "        if len(l)==1:\n",
    "            return m,l\n",
    "        else:\n",
    "            m,l=one_round(m,l)\n",
    "            last_one(m,l)\n",
    "\n",
    "l=range(1,35)\n",
    "last_one(1,l)"
   ]
  },
  {
   "cell_type": "code",
   "execution_count": 58,
   "metadata": {},
   "outputs": [
    {
     "name": "stdout",
     "output_type": "stream",
     "text": [
      "[1, 2, 3, 4, 5, 7, 8, 9]\n",
      "None\n",
      "[1, 2, 3, 4, 5, 7, 8, 9, 11, 12, 14]\n",
      "[1, 2, 3, 4, 5, 7, 8, 9, 11, 12, 14, 11, 12, 14]\n",
      "[1, 2, 3, 4, 5, 7, 8, 9, 11, 12, 14]\n"
     ]
    }
   ],
   "source": [
    "#题目74：列表排序及连接。\n",
    "#排序可使用 sort() 方法，连接可以使用 + 号或 extend() 方法。\n",
    "l=[2,8,5,1,4,7,9,3]\n",
    "l.sort()\n",
    "print l\n",
    "\n",
    "l2=[11,12,14]\n",
    "print l.extend(l2)\n",
    "print l\n",
    "\n",
    "print l+l2\n",
    "print l"
   ]
  },
  {
   "cell_type": "code",
   "execution_count": 59,
   "metadata": {},
   "outputs": [
    {
     "data": {
      "text/plain": [
       "0.9166666666666666"
      ]
     },
     "execution_count": 59,
     "metadata": {},
     "output_type": "execute_result"
    }
   ],
   "source": [
    "#题目77：编写一个函数，输入n为偶数时，调用函数求1/2+1/4+...+1/n,当输入n为奇数时，调用函数1/1+1/3+...+1/n\n",
    "def sum(n):\n",
    "    if n==1:\n",
    "        return 1.0/1\n",
    "    elif n==2:\n",
    "        return 1.0/2\n",
    "    else:\n",
    "        return sum(n-2)+1.0/n\n",
    "    \n",
    "sum(6)"
   ]
  },
  {
   "cell_type": "code",
   "execution_count": 60,
   "metadata": {},
   "outputs": [
    {
     "name": "stdout",
     "output_type": "stream",
     "text": [
      "kai\n"
     ]
    }
   ],
   "source": [
    "#题目78：找到年龄最大的人，并输出。请找出程序中有什么问题。\n",
    "\n",
    "def old_man(d):\n",
    "    old_man=None\n",
    "    max_age=0\n",
    "    for key in d.keys():\n",
    "        if d[key]>max_age:\n",
    "            max_age=d[key]\n",
    "            old_man=key\n",
    "    return old_man\n",
    "\n",
    "d={'kai':100,'suoyu':18,'jiaoli':20}\n",
    "print old_man(d)     "
   ]
  },
  {
   "cell_type": "code",
   "execution_count": 62,
   "metadata": {},
   "outputs": [
    {
     "name": "stdout",
     "output_type": "stream",
     "text": [
      "3121\n"
     ]
    }
   ],
   "source": [
    "#题目80：海滩上有一堆桃子，五只猴子来分。第一只猴子把这堆桃子平均分为五份，多了一个，这只猴子把多的一个扔入海中，拿走了一份。\n",
    "#第二只猴子把剩下的桃子又平均分成五份，又多了一个，它同样把多的一个扔入海中，拿走了一份，\n",
    "#第三、第四、第五只猴子都是这样做的，问海滩上原来最少有多少个桃子\n",
    "\n",
    "#(A-1)*4=5B\n",
    "##判断最后一个猴子拿的桃子\n",
    "def retrive_peach(x):\n",
    "    flag=True\n",
    "    last_peach=5*x+1\n",
    "    for i in range(2,6):\n",
    "        if last_peach%4==0:\n",
    "            last_peach = last_peach/4*5+1\n",
    "        else:\n",
    "            flag=False\n",
    "            break\n",
    "    return flag\n",
    "\n",
    "def last_peach():\n",
    "    for i in range(10000):\n",
    "        if retrive_peach(i):\n",
    "            return i\n",
    "\n",
    "last_cnt=last_peach()\n",
    "last_peach=last_cnt*5+1\n",
    "for i in range(2,6):\n",
    "    last_peach = last_peach/4*5+1\n",
    "print last_peach"
   ]
  },
  {
   "cell_type": "code",
   "execution_count": 15,
   "metadata": {},
   "outputs": [
    {
     "name": "stdout",
     "output_type": "stream",
     "text": [
      "4\n",
      "32\n",
      "256\n",
      "2048\n",
      "16384\n",
      "131072\n",
      "1048576\n",
      "8388608\n"
     ]
    },
    {
     "data": {
      "text/plain": [
       "8388608"
      ]
     },
     "execution_count": 15,
     "metadata": {},
     "output_type": "execute_result"
    }
   ],
   "source": [
    "# 题目83：求0—7所能组成的奇数个数。\n",
    "\n",
    "def odd_num():\n",
    "    total_cnt=0\n",
    "    last_cnt=4\n",
    "    for i in range(1,9):\n",
    "        if i==1:\n",
    "            last_cnt=4\n",
    "        elif i==2:\n",
    "            last_cnt=last_cnt*7\n",
    "        else:\n",
    "            last_cnt*=8\n",
    "        total_cnt+=last_cnt\n",
    "        print total_cnt\n",
    "    return total_cnt\n",
    "\n",
    "odd_num()"
   ]
  },
  {
   "cell_type": "code",
   "execution_count": 16,
   "metadata": {},
   "outputs": [
    {
     "data": {
      "text/plain": [
       "'Bob.Lisa.Kevin'"
      ]
     },
     "execution_count": 16,
     "metadata": {},
     "output_type": "execute_result"
    }
   ],
   "source": [
    "# 题目84：连接字符串。\n",
    "l=['Bob','Lisa','Kevin']\n",
    "'.'.join(l)"
   ]
  }
 ],
 "metadata": {
  "kernelspec": {
   "display_name": "Python 2",
   "language": "python",
   "name": "python2"
  },
  "language_info": {
   "codemirror_mode": {
    "name": "ipython",
    "version": 2
   },
   "file_extension": ".py",
   "mimetype": "text/x-python",
   "name": "python",
   "nbconvert_exporter": "python",
   "pygments_lexer": "ipython2",
   "version": "2.7.15"
  }
 },
 "nbformat": 4,
 "nbformat_minor": 2
}
